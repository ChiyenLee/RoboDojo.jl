{
 "cells": [
  {
   "outputs": [],
   "cell_type": "code",
   "source": [
    "q1 = nominal_configuration(biped)\n",
    "v1 = zeros(biped.nq)\n",
    "\n",
    "h = 0.01\n",
    "T = 100\n",
    "\n",
    "s = Simulator(biped, T, h=h)\n",
    "simulate!(s, q1, v1)\n",
    "@benchmark simulate!($s, $q1, $v1)\n",
    "\n",
    "vis = Visualizer()\n",
    "open(vis)\n",
    "visualize!(vis, s)"
   ],
   "metadata": {},
   "execution_count": null
  },
  {
   "cell_type": "markdown",
   "source": [
    "---\n",
    "\n",
    "*This notebook was generated using [Literate.jl](https://github.com/fredrikekre/Literate.jl).*"
   ],
   "metadata": {}
  }
 ],
 "nbformat_minor": 3,
 "metadata": {
  "language_info": {
   "file_extension": ".jl",
   "mimetype": "application/julia",
   "name": "julia",
   "version": "1.6.2"
  },
  "kernelspec": {
   "name": "julia-1.6",
   "display_name": "Julia 1.6.2",
   "language": "julia"
  }
 },
 "nbformat": 4
}
