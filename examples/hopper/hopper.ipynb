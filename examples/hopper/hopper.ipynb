{
 "cells": [
  {
   "outputs": [],
   "cell_type": "code",
   "source": [
    "q1 = nominal_configuration(hopper)\n",
    "v1 = zeros(hopper.nq)\n",
    "\n",
    "T = 100\n",
    "h = 0.01"
   ],
   "metadata": {},
   "execution_count": null
  },
  {
   "cell_type": "markdown",
   "source": [
    "p_raibert = raibert_policy(hopper, h=h)"
   ],
   "metadata": {}
  },
  {
   "outputs": [],
   "cell_type": "code",
   "source": [
    "s = Simulator(hopper, T, h=h)#, policy=p_raibert)\n",
    "s.ip.opts.diff_sol = true\n",
    "simulate!(s, q1, v1, reset_traj=false)\n",
    "using BenchmarkTools\n",
    "@benchmark simulate!($s, $q1, $v1)"
   ],
   "metadata": {},
   "execution_count": null
  },
  {
   "cell_type": "markdown",
   "source": [
    "fill!(s.ip.rz, 0.0)\n",
    "s.ip.rz\n",
    "RobotDojo.rz!(s.ip, s.ip.rz, s.ip.z, s.ip.θ)\n",
    "s.ip.methods.rθ!(s.ip.rθ, s.ip.z, s.ip.θ)\n",
    "# linear_solve!(s.ip.solver, s.ip.δzs, s.ip.rz, s.ip.rθ)\n",
    "s.ip.solver.A\n",
    "fill!(s.ip.solver.A, 0.0)\n",
    "s.ip.rz\n",
    "s.ip.solver.A .= s.ip.rz\n",
    "fill!(s.ip.solver.ipiv, 0)\n",
    "RobotDojo.getrf!(s.ip.solver.A, s.ip.solver.ipiv, s.ip.solver.lda, s.ip.solver.info)\n",
    "RobotDojo.factorize!(s.ip.solver, copy(s.ip.rz))"
   ],
   "metadata": {}
  },
  {
   "cell_type": "markdown",
   "source": [
    "RobotDojo.differentiate_solution!(s.ip)\n",
    "s.ip.solver.A"
   ],
   "metadata": {}
  },
  {
   "outputs": [],
   "cell_type": "code",
   "source": [
    "vis = Visualizer()\n",
    "open(vis)\n",
    "visualize!(vis, s)"
   ],
   "metadata": {},
   "execution_count": null
  },
  {
   "cell_type": "markdown",
   "source": [
    "---\n",
    "\n",
    "*This notebook was generated using [Literate.jl](https://github.com/fredrikekre/Literate.jl).*"
   ],
   "metadata": {}
  }
 ],
 "nbformat_minor": 3,
 "metadata": {
  "language_info": {
   "file_extension": ".jl",
   "mimetype": "application/julia",
   "name": "julia",
   "version": "1.6.2"
  },
  "kernelspec": {
   "name": "julia-1.6",
   "display_name": "Julia 1.6.2",
   "language": "julia"
  }
 },
 "nbformat": 4
}
