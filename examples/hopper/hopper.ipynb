{
 "cells": [
  {
   "outputs": [],
   "cell_type": "code",
   "source": [
    "q1 = nominal_configuration(hopper)\n",
    "v1 = zeros(hopper.nq)\n",
    "\n",
    "T = 100\n",
    "h = 0.01"
   ],
   "metadata": {},
   "execution_count": null
  },
  {
   "cell_type": "markdown",
   "source": [
    "p_raibert = raibert_policy(hopper, h=h)"
   ],
   "metadata": {}
  },
  {
   "outputs": [],
   "cell_type": "code",
   "source": [
    "s = Simulator(hopper, T, h=h)#, policy=p_raibert)\n",
    "\n",
    "num_var(hopper)\n",
    "num_data(hopper)\n",
    "\n",
    "s.ip.opts.diff_sol = false\n",
    "simulate!(s, q1, v1, reset_traj=false)\n",
    "@code_warntype simulate!(s, q1, v1, reset_traj=false)\n",
    "\n",
    "@benchmark simulate!($s, $q1, $v1)\n",
    "\n",
    "rank(s.ip.rz)\n",
    "s.ip.solver.A\n",
    "rz!(s.ip, s.ip.rz, s.ip.z, s.ip.θ, reg = 0.0)\n",
    "rθ!(s.ip, s.ip.rθ, s.ip.z, s.ip.θ)\n",
    "\n",
    "differentiate_solution!(s.ip)\n",
    "s.ip.solver.A #.= 0.0\n",
    "s.ip.solver.A\n",
    "s.ip.solver.ipiv\n",
    "s.ip.solver.info\n",
    "s.ip.δz\n",
    "\n",
    "gradient!(s.grad, s.ip.δz, s.idx_z, s.idx_θ, h, 1)\n",
    "@benchmark gradient!($s.grad, $s.ip.δz, $s.idx_z, $s.idx_θ, $h, 1)\n",
    "\n",
    "\n",
    "using InteractiveUtils\n",
    "t = 1\n",
    "gradient!(s.grad, s.ip.δz, s.idx_z, s.idx_θ, h, t)\n",
    "@code_warntype gradient!(s.grad, s.ip.δz, s.idx_z, s.idx_θ, h, t)\n",
    "\n",
    "vis = Visualizer()\n",
    "open(vis)\n",
    "visualize!(vis, s)"
   ],
   "metadata": {},
   "execution_count": null
  },
  {
   "cell_type": "markdown",
   "source": [
    "---\n",
    "\n",
    "*This notebook was generated using [Literate.jl](https://github.com/fredrikekre/Literate.jl).*"
   ],
   "metadata": {}
  }
 ],
 "nbformat_minor": 3,
 "metadata": {
  "language_info": {
   "file_extension": ".jl",
   "mimetype": "application/julia",
   "name": "julia",
   "version": "1.6.2"
  },
  "kernelspec": {
   "name": "julia-1.6",
   "display_name": "Julia 1.6.2",
   "language": "julia"
  }
 },
 "nbformat": 4
}
